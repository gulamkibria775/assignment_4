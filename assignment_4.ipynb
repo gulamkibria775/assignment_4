{
 "cells": [
  {
   "cell_type": "markdown",
   "metadata": {},
   "source": [
    "                                           Ans to the Q No -1\n",
    "                                           \n",
    "                                           \n",
    "   this is a empty list .there is no value in this list.Lists in Python can be created by just placing the sequence inside the square brackets[]. To declare an empty list just assign a variable with square brackets."
   ]
  },
  {
   "cell_type": "markdown",
   "metadata": {},
   "source": [
    "                                    Ans to the Q No -2\n",
    "                                    \n",
    "   spam= [2,4,6,8,10]\n",
    "   \n",
    "   In a list index star from 0.in this list the third position of spam is spam[2]='hello'"
   ]
  },
  {
   "cell_type": "markdown",
   "metadata": {},
   "source": [
    "                                   Ans to the Q No -3\n",
    "                                   \n",
    "  given that,#\n",
    "  \n",
    " list=['a','b','c','d']#\n",
    " \n",
    " 'd' because  '3' * 2 is the string '33', which is passed to int() before being divided by 11. This eventually evaluates to 3. list[3] is 'd'.\n",
    " "
   ]
  },
  {
   "cell_type": "markdown",
   "metadata": {},
   "source": [
    "                                  Ans to the Q No -4\n",
    "     list=['a','b','c','d']  \n",
    "     list[-1] is 'd' because Negative indexes count from the end of a list. \n",
    "                                  \n",
    "                                 "
   ]
  },
  {
   "cell_type": "markdown",
   "metadata": {},
   "source": [
    "                                Ans to the Q No-5\n",
    "                                \n",
    "  spam=['a','b','c','d']  \n",
    "  \n",
    "  spam[:2]  #output is ['a','b']\n",
    "  list index start from 0 and execute to n-1"
   ]
  },
  {
   "cell_type": "markdown",
   "metadata": {},
   "source": [
    "                                Ans to the Q No-6\n",
    "                                \n",
    "  bacon=[3.14,'cat',11,'cat']\n",
    "  \n",
    "  # get the index of 'cat'\n",
    "index = bacon.index('cat')\n",
    "\n",
    "\n",
    "print(index)\n",
    "\n",
    "# Output: 1"
   ]
  },
  {
   "cell_type": "markdown",
   "metadata": {},
   "source": [
    "                                 Ans to the Q No-7\n",
    "                                 \n",
    " bacon=[3.14,'cat',11,'cat']\n",
    "\n",
    "# append '99' to the list\n",
    "bacon.append('99')\n",
    "\n",
    "\n",
    "print(bacon)\n",
    "\n",
    "# Output:[3.14,'cat',11,'cat','99']"
   ]
  },
  {
   "cell_type": "code",
   "execution_count": null,
   "metadata": {},
   "outputs": [],
   "source": [
    "                               Ans to the Q No-8\n",
    "    \n",
    "   bacon=[3.14,'cat',11,'cat']\n",
    "\n",
    "# remove 'cat' from the list\n",
    "bacon.remove('cat')\n",
    "\n",
    "\n",
    "# Updated bacon List\n",
    "print('Updated List: ', bacon)\n",
    "\n",
    "# Output: Updated List:  [3.14,11]"
   ]
  },
  {
   "cell_type": "markdown",
   "metadata": {},
   "source": [
    "                              Ans to the Q No-9\n",
    "                              \n",
    "  The operator for list concatenation is +,on the otherhand the operator for replication is *                            "
   ]
  },
  {
   "cell_type": "markdown",
   "metadata": {},
   "source": [
    "                          Ans to the Q No-10\n",
    "                          \n",
    " append() will add values only to the end of a list and  insert() can add them anywhere in the list.                        "
   ]
  },
  {
   "cell_type": "markdown",
   "metadata": {},
   "source": [
    "                                       Ans to the Q No-11\n",
    "                                       \n",
    "    The pop() method removes an element from the list based on the index given. The clear() method will remove all the elements present in the list."
   ]
  },
  {
   "cell_type": "markdown",
   "metadata": {},
   "source": [
    "                                       Ans to the Q No-12\n",
    " \n",
    " The similarity between Lists and Strings in Python is that both are sequences. The differences between them are that firstly, Lists are mutable but Strings are immutable. Secondly, elements of a list can be of different types whereas a String only contains characters that are all of String type."
   ]
  },
  {
   "cell_type": "markdown",
   "metadata": {},
   "source": [
    "                                       Ans to the Q No-13\n",
    "                                       \n",
    "The key difference between the tuples and lists is that  the tuples are immutable objects but the lists are mutable. This means that tuples cannot be changed but the lists can be modified. Tuples are more memory efficient than the lists.                                      "
   ]
  },
  {
   "cell_type": "markdown",
   "metadata": {},
   "source": [
    "                                        Ans to the Q No-14\n",
    "                                        \n",
    " t=(42,)                                       "
   ]
  },
  {
   "cell_type": "markdown",
   "metadata": {},
   "source": [
    "                                     Ans to the Q No-15\n",
    "                                     \n",
    "                                     \n",
    "The tuple() and list() functions"
   ]
  },
  {
   "cell_type": "markdown",
   "metadata": {},
   "source": [
    "                                 Ans to the Q No-16\n",
    "\n",
    "\n",
    "They contain references to list values."
   ]
  },
  {
   "cell_type": "markdown",
   "metadata": {},
   "source": [
    "                                        Ans to the Q No-17\n",
    "                                        \n",
    "  The copy.copy() function will do a shallow copy of a list, while the copy.deepcopy() function will do a deep copy of a list. That is, only copy.deepcopy() will duplicate any lists inside the list.                                      "
   ]
  },
  {
   "cell_type": "code",
   "execution_count": null,
   "metadata": {},
   "outputs": [],
   "source": []
  }
 ],
 "metadata": {
  "kernelspec": {
   "display_name": "Python 3",
   "language": "python",
   "name": "python3"
  },
  "language_info": {
   "codemirror_mode": {
    "name": "ipython",
    "version": 3
   },
   "file_extension": ".py",
   "mimetype": "text/x-python",
   "name": "python",
   "nbconvert_exporter": "python",
   "pygments_lexer": "ipython3",
   "version": "3.8.5"
  }
 },
 "nbformat": 4,
 "nbformat_minor": 4
}
